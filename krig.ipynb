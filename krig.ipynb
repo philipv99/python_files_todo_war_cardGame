{
 "cells": [
  {
   "cell_type": "markdown",
   "metadata": {},
   "source": [
    "Krig"
   ]
  },
  {
   "cell_type": "code",
   "execution_count": 481,
   "metadata": {},
   "outputs": [],
   "source": [
    "import random\n",
    "import time"
   ]
  },
  {
   "cell_type": "code",
   "execution_count": 482,
   "metadata": {},
   "outputs": [
    {
     "name": "stdout",
     "output_type": "stream",
     "text": [
      "[2, 3, 4, 5, 6, 7, 8, 9, 10, 11, 12, 13, 14, 2, 3, 4, 5, 6, 7, 8, 9, 10, 11, 12, 13, 14, 2, 3, 4, 5, 6, 7, 8, 9, 10, 11, 12, 13, 14, 2, 3, 4, 5, 6, 7, 8, 9, 10, 11, 12, 13, 14]\n",
      "total: 52\n"
     ]
    }
   ],
   "source": [
    "Totalcardset = [x for x in range(2,15)]*4\n",
    "print(Totalcardset)\n",
    "print(\"total: \" + str(len(Totalcardset)))\n",
    "\n",
    "playing = True\n"
   ]
  },
  {
   "cell_type": "markdown",
   "metadata": {},
   "source": [
    "shuffle hand"
   ]
  },
  {
   "cell_type": "code",
   "execution_count": 483,
   "metadata": {},
   "outputs": [
    {
     "name": "stdout",
     "output_type": "stream",
     "text": [
      "[2, 10, 5, 6, 14, 8, 13, 4, 6, 8, 10, 7, 2, 4, 9, 3, 11, 9, 6, 13, 9, 9, 11, 14, 7, 12, 5, 7, 14, 11, 10, 13, 6, 14, 5, 4, 2, 11, 12, 2, 4, 3, 7, 3, 8, 12, 13, 3, 5, 10, 12, 8]\n",
      "[2, 10, 5, 6, 14, 8, 13, 4, 6, 8, 10, 7, 2, 4, 9, 3, 11, 9, 6, 13, 9, 9, 11, 14, 7, 12]\n"
     ]
    }
   ],
   "source": [
    "random.shuffle(Totalcardset)\n",
    "print(Totalcardset)\n",
    "hand1 = Totalcardset[0 : 26]\n",
    "hand2 = Totalcardset[26 : 52]\n",
    "print(hand1)"
   ]
  },
  {
   "cell_type": "markdown",
   "metadata": {},
   "source": [
    "players"
   ]
  },
  {
   "cell_type": "code",
   "execution_count": 484,
   "metadata": {},
   "outputs": [],
   "source": [
    "class player:\n",
    "   def __init__(self, hand=list, playerName=str):\n",
    "      self.hand = hand\n",
    "      self.playerName = playerName\n",
    "      self.Descard = []\n",
    "\n",
    "   def __str__(self) -> str:\n",
    "      return f\"{self.playerName}\"\n",
    "\n",
    "   def outOfCards(self):\n",
    "      if len(self.Descard) <= 0:\n",
    "         print(f\"{self.playerName} is out of cards and ha Lost!!!\")\n",
    "         playing = False\n",
    "         return \n",
    "      self.hand += self.Descard\n",
    "      self.Descard = []\n",
    "      random.shuffle(self.hand)\n",
    "      print(f\"{self.playerName} draws cards from pile to hand, {len(self.hand)} Cards in hand\")\n",
    "\n",
    "   def playOneCard(self):\n",
    "      if len(self.hand) <= 0:\n",
    "         self.outOfCards()\n",
    "\n",
    "      playcard = self.hand.pop(random.randint(0, len(self.hand)-1))\n",
    "      print(f\"{self.playerName} plays {playcard}. ({len(self.hand)} cards left)\")\n",
    "      return playcard\n",
    "   \n",
    "   def resivecsCard(self, List=list):\n",
    "      self.Descard.append(List)\n",
    "   \n",
    "   def points(self):\n",
    "      return len(self.hand + self.Descard)\n"
   ]
  },
  {
   "cell_type": "markdown",
   "metadata": {},
   "source": [
    "init players "
   ]
  },
  {
   "cell_type": "code",
   "execution_count": 485,
   "metadata": {},
   "outputs": [],
   "source": [
    "p1 = player(hand1, \"player 1\")\n",
    "p2 = player(hand2, \"player 2\")"
   ]
  },
  {
   "cell_type": "markdown",
   "metadata": {},
   "source": [
    "Functions"
   ]
  },
  {
   "cell_type": "code",
   "execution_count": 486,
   "metadata": {},
   "outputs": [],
   "source": [
    "def playinOn(p1=player, p2=player, playing=bool):\n",
    "   if len(p1.hand + p1.Descard) < 1 : playing = False\n",
    "   if len(p2.hand + p2.Descard) < 1 : playing= False\n",
    "   return playing"
   ]
  },
  {
   "cell_type": "code",
   "execution_count": 487,
   "metadata": {},
   "outputs": [],
   "source": [
    "def playerTie(cards, p1=player, p2=player):\n",
    "   print(f\" Both playser draws 3 cards\")\n",
    "   for i in range(3):\n",
    "      cards[0].append(player.playOneCard(p1))\n",
    "      cards[1].append(player.playOneCard(p2))\n",
    "      time.sleep(1)\n",
    "\n",
    "   if cards[0][-1] == cards[1][-1]:\n",
    "      print(\"\\n  it's a tie  \\n\")\n",
    "      playerTie(cards=cards, p1=p1, p2=p2)\n",
    "\n",
    "   elif cards[0][-1] > cards[1][-1]:\n",
    "      print(f\"  {p1.playerName} wins all {len(cards[0]) + len(cards[1])} \\n\")\n",
    "      p1.Descard += cards[0] + cards[1]\n",
    "\n",
    "   else:\n",
    "      print(f\"  {p1.playerName} wins all {len(cards[0]) + len(cards[1])} \\n\")\n",
    "      p2.Descard += cards[0] + cards[1]\n"
   ]
  },
  {
   "cell_type": "markdown",
   "metadata": {},
   "source": [
    "playloop"
   ]
  },
  {
   "cell_type": "code",
   "execution_count": 488,
   "metadata": {},
   "outputs": [
    {
     "name": "stdout",
     "output_type": "stream",
     "text": [
      "player 1 plays 13. (25 cards left)\n",
      "player 2 plays 13. (25 cards left)\n",
      "  It's a tie\n",
      " Both playser draws 3 cards\n",
      "player 1 plays 10. (24 cards left)\n",
      "player 2 plays 7. (24 cards left)\n",
      "player 1 plays 12. (23 cards left)\n",
      "player 2 plays 12. (23 cards left)\n",
      "player 1 plays 13. (22 cards left)\n",
      "player 2 plays 3. (22 cards left)\n",
      "  player 1 wins all 8 \n",
      "\n",
      "player 1 plays 9. (21 cards left)\n",
      "player 2 plays 5. (21 cards left)\n",
      "  player 1 won the 2 cards \n",
      "\n",
      "player 1 plays 14. (20 cards left)\n",
      "player 2 plays 13. (20 cards left)\n",
      "  player 1 won the 2 cards \n",
      "\n",
      "player 1 plays 14. (19 cards left)\n",
      "player 2 plays 4. (19 cards left)\n",
      "  player 1 won the 2 cards \n",
      "\n",
      "player 1 plays 5. (18 cards left)\n",
      "player 2 plays 10. (18 cards left)\n",
      "  player 2 won the 2 cards \n",
      "\n",
      "player 1 plays 7. (17 cards left)\n",
      "player 2 plays 5. (17 cards left)\n",
      "  player 1 won the 2 cards \n",
      "\n",
      "player 1 plays 9. (16 cards left)\n",
      "player 2 plays 12. (16 cards left)\n",
      "  player 2 won the 2 cards \n",
      "\n",
      "player 1 plays 6. (15 cards left)\n",
      "player 2 plays 8. (15 cards left)\n",
      "  player 2 won the 2 cards \n",
      "\n",
      "player 1 plays 6. (14 cards left)\n",
      "player 2 plays 11. (14 cards left)\n",
      "  player 2 won the 2 cards \n",
      "\n",
      "player 1 plays 6. (13 cards left)\n",
      "player 2 plays 3. (13 cards left)\n",
      "  player 1 won the 2 cards \n",
      "\n",
      "player 1 plays 7. (12 cards left)\n",
      "player 2 plays 8. (12 cards left)\n",
      "  player 2 won the 2 cards \n",
      "\n",
      "player 1 plays 8. (11 cards left)\n",
      "player 2 plays 10. (11 cards left)\n",
      "  player 2 won the 2 cards \n",
      "\n",
      "player 1 plays 4. (10 cards left)\n",
      "player 2 plays 12. (10 cards left)\n",
      "  player 2 won the 2 cards \n",
      "\n",
      "player 1 plays 11. (9 cards left)\n",
      "player 2 plays 4. (9 cards left)\n",
      "  player 1 won the 2 cards \n",
      "\n",
      "player 1 plays 4. (8 cards left)\n",
      "player 2 plays 14. (8 cards left)\n",
      "  player 2 won the 2 cards \n",
      "\n",
      "player 1 plays 8. (7 cards left)\n",
      "player 2 plays 3. (7 cards left)\n",
      "  player 1 won the 2 cards \n",
      "\n",
      "player 1 plays 11. (6 cards left)\n",
      "player 2 plays 2. (6 cards left)\n",
      "  player 1 won the 2 cards \n",
      "\n",
      "player 1 plays 9. (5 cards left)\n",
      "player 2 plays 14. (5 cards left)\n",
      "  player 2 won the 2 cards \n",
      "\n",
      "player 1 plays 10. (4 cards left)\n",
      "player 2 plays 6. (4 cards left)\n",
      "  player 1 won the 2 cards \n",
      "\n",
      "player 1 plays 2. (3 cards left)\n",
      "player 2 plays 7. (3 cards left)\n",
      "  player 2 won the 2 cards \n",
      "\n",
      "player 1 plays 3. (2 cards left)\n",
      "player 2 plays 2. (2 cards left)\n",
      "  player 1 won the 2 cards \n",
      "\n",
      "player 1 plays 9. (1 cards left)\n",
      "player 2 plays 11. (1 cards left)\n",
      "  player 2 won the 2 cards \n",
      "\n",
      "player 1 plays 2. (0 cards left)\n",
      "player 2 plays 5. (0 cards left)\n",
      "  player 2 won the 2 cards \n",
      "\n"
     ]
    }
   ],
   "source": [
    "while(playinOn(p1, p2, playing=playing)):\n",
    "   cardsInPlay = [[], []]\n",
    "   cardsInPlay[0].append(player.playOneCard(p1))\n",
    "   cardsInPlay[1].append(player.playOneCard(p2))\n",
    "   if cardsInPlay[0][-1] == cardsInPlay[1][-1]:\n",
    "      print(\"  It's a tie\")\n",
    "      playerTie(cardsInPlay, p1, p2)\n",
    "   elif cardsInPlay[0][-1] > cardsInPlay[1][-1]:\n",
    "      p1.Descard += cardsInPlay[0] + cardsInPlay[1]\n",
    "      print(f\"  {p1.playerName} won the {len(cardsInPlay[0]) + len(cardsInPlay[1])} cards \\n\")\n",
    "   else:\n",
    "      p1.Descard += cardsInPlay[0] + cardsInPlay[1]\n",
    "      print(f\"  {p2.playerName} won the {len(cardsInPlay[0]) + len(cardsInPlay[1])} cards \\n\")"
   ]
  },
  {
   "cell_type": "code",
   "execution_count": 489,
   "metadata": {},
   "outputs": [
    {
     "name": "stdout",
     "output_type": "stream",
     "text": [
      "player 1 WINS THE GAME!!!\n"
     ]
    }
   ],
   "source": [
    "winner = p1 if p1.points() > p2.points() else p2\n",
    "print(f\"{winner.playerName} WINS THE GAME!!!\")"
   ]
  }
 ],
 "metadata": {
  "kernelspec": {
   "display_name": "Python 3",
   "language": "python",
   "name": "python3"
  },
  "language_info": {
   "codemirror_mode": {
    "name": "ipython",
    "version": 3
   },
   "file_extension": ".py",
   "mimetype": "text/x-python",
   "name": "python",
   "nbconvert_exporter": "python",
   "pygments_lexer": "ipython3",
   "version": "3.11.3"
  }
 },
 "nbformat": 4,
 "nbformat_minor": 2
}
